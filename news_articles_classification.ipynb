{
  "cells": [
    {
      "cell_type": "markdown",
      "metadata": {
        "id": "view-in-github",
        "colab_type": "text"
      },
      "source": [
        "<a href=\"https://colab.research.google.com/github/Jimbrown234/GBC_MLP1/blob/github_task/news_articles_classification.ipynb\" target=\"_parent\"><img src=\"https://colab.research.google.com/assets/colab-badge.svg\" alt=\"Open In Colab\"/></a>"
      ]
    },
    {
      "cell_type": "markdown",
      "metadata": {
        "id": "ghLRQ2qZOS7K"
      },
      "source": [
        "# Importing Libraries"
      ]
    },
    {
      "cell_type": "code",
      "execution_count": 4,
      "metadata": {
        "trusted": true,
        "id": "vAwxdeZHOS7M"
      },
      "outputs": [],
      "source": [
        "import numpy as np\n",
        "import pandas as pd\n",
        "\n",
        "\n",
        "from sklearn.pipeline import Pipeline\n",
        "from sklearn.feature_extraction.text import TfidfTransformer, CountVectorizer\n",
        "from sklearn.model_selection import train_test_split\n",
        "from sklearn.metrics import accuracy_score\n",
        "\n",
        "import time\n",
        "import re\n",
        "import pickle\n",
        "from string import punctuation\n",
        "from nltk import pos_tag\n",
        "from nltk.corpus import stopwords, wordnet\n",
        "from nltk.stem import WordNetLemmatizer\n",
        "from nltk.tokenize import word_tokenize\n",
        "from wordcloud import WordCloud\n",
        "\n",
        "from sklearn.svm import LinearSVC, SVC\n",
        "from sklearn.tree import DecisionTreeClassifier\n",
        "from sklearn.naive_bayes import GaussianNB, MultinomialNB\n",
        "from sklearn.linear_model import LogisticRegression, SGDClassifier\n",
        "from sklearn.ensemble import RandomForestClassifier"
      ]
    },
    {
      "cell_type": "markdown",
      "metadata": {
        "id": "qQs9VsOCOS7O"
      },
      "source": [
        "# Loading Dataset"
      ]
    },
    {
      "cell_type": "code",
      "execution_count": 17,
      "metadata": {
        "_cell_guid": "79c7e3d0-c299-4dcb-8224-4455121ee9b0",
        "_uuid": "d629ff2d2480ee46fbb7e2d37f6b5fab8052498a",
        "trusted": true,
        "id": "COBsPzRUOS7O",
        "outputId": "7cdf6150-ff59-47a5-fb97-2cc18688a056",
        "colab": {
          "base_uri": "https://localhost:8080/",
          "height": 206
        }
      },
      "outputs": [
        {
          "output_type": "execute_result",
          "data": {
            "text/plain": [
              "                                            headline          category  \\\n",
              "0   There Were 2 Mass Shootings In Texas Last Wee...           CRIME     \n",
              "1   Will Smith Joins Diplo And Nicky Jam For The ...   ENTERTAINMENT     \n",
              "2   Hugh Grant Marries For The First Time At Age ...   ENTERTAINMENT     \n",
              "3   Jim Carrey Blasts 'Castrato' Adam Schiff And ...   ENTERTAINMENT     \n",
              "4   Julianna Margulies Uses Donald Trump Poop Bag...   ENTERTAINMENT     \n",
              "\n",
              "              authors                                  short_description  \n",
              "0   Melissa Jeltsen     She left her husband. He killed their childre...  \n",
              "1     Andy McDonald                            Of course it has a song.   \n",
              "2        Ron Dicker     The actor and his longtime girlfriend Anna Eb...  \n",
              "3        Ron Dicker     The actor gives Dems an ass-kicking for not f...  \n",
              "4        Ron Dicker     The Dietland actress said using the bags is a...  "
            ],
            "text/html": [
              "\n",
              "  <div id=\"df-e3ad1b94-c43a-4a36-b832-438a8825551f\">\n",
              "    <div class=\"colab-df-container\">\n",
              "      <div>\n",
              "<style scoped>\n",
              "    .dataframe tbody tr th:only-of-type {\n",
              "        vertical-align: middle;\n",
              "    }\n",
              "\n",
              "    .dataframe tbody tr th {\n",
              "        vertical-align: top;\n",
              "    }\n",
              "\n",
              "    .dataframe thead th {\n",
              "        text-align: right;\n",
              "    }\n",
              "</style>\n",
              "<table border=\"1\" class=\"dataframe\">\n",
              "  <thead>\n",
              "    <tr style=\"text-align: right;\">\n",
              "      <th></th>\n",
              "      <th>headline</th>\n",
              "      <th>category</th>\n",
              "      <th>authors</th>\n",
              "      <th>short_description</th>\n",
              "    </tr>\n",
              "  </thead>\n",
              "  <tbody>\n",
              "    <tr>\n",
              "      <th>0</th>\n",
              "      <td>There Were 2 Mass Shootings In Texas Last Wee...</td>\n",
              "      <td>CRIME</td>\n",
              "      <td>Melissa Jeltsen</td>\n",
              "      <td>She left her husband. He killed their childre...</td>\n",
              "    </tr>\n",
              "    <tr>\n",
              "      <th>1</th>\n",
              "      <td>Will Smith Joins Diplo And Nicky Jam For The ...</td>\n",
              "      <td>ENTERTAINMENT</td>\n",
              "      <td>Andy McDonald</td>\n",
              "      <td>Of course it has a song.</td>\n",
              "    </tr>\n",
              "    <tr>\n",
              "      <th>2</th>\n",
              "      <td>Hugh Grant Marries For The First Time At Age ...</td>\n",
              "      <td>ENTERTAINMENT</td>\n",
              "      <td>Ron Dicker</td>\n",
              "      <td>The actor and his longtime girlfriend Anna Eb...</td>\n",
              "    </tr>\n",
              "    <tr>\n",
              "      <th>3</th>\n",
              "      <td>Jim Carrey Blasts 'Castrato' Adam Schiff And ...</td>\n",
              "      <td>ENTERTAINMENT</td>\n",
              "      <td>Ron Dicker</td>\n",
              "      <td>The actor gives Dems an ass-kicking for not f...</td>\n",
              "    </tr>\n",
              "    <tr>\n",
              "      <th>4</th>\n",
              "      <td>Julianna Margulies Uses Donald Trump Poop Bag...</td>\n",
              "      <td>ENTERTAINMENT</td>\n",
              "      <td>Ron Dicker</td>\n",
              "      <td>The Dietland actress said using the bags is a...</td>\n",
              "    </tr>\n",
              "  </tbody>\n",
              "</table>\n",
              "</div>\n",
              "      <button class=\"colab-df-convert\" onclick=\"convertToInteractive('df-e3ad1b94-c43a-4a36-b832-438a8825551f')\"\n",
              "              title=\"Convert this dataframe to an interactive table.\"\n",
              "              style=\"display:none;\">\n",
              "        \n",
              "  <svg xmlns=\"http://www.w3.org/2000/svg\" height=\"24px\"viewBox=\"0 0 24 24\"\n",
              "       width=\"24px\">\n",
              "    <path d=\"M0 0h24v24H0V0z\" fill=\"none\"/>\n",
              "    <path d=\"M18.56 5.44l.94 2.06.94-2.06 2.06-.94-2.06-.94-.94-2.06-.94 2.06-2.06.94zm-11 1L8.5 8.5l.94-2.06 2.06-.94-2.06-.94L8.5 2.5l-.94 2.06-2.06.94zm10 10l.94 2.06.94-2.06 2.06-.94-2.06-.94-.94-2.06-.94 2.06-2.06.94z\"/><path d=\"M17.41 7.96l-1.37-1.37c-.4-.4-.92-.59-1.43-.59-.52 0-1.04.2-1.43.59L10.3 9.45l-7.72 7.72c-.78.78-.78 2.05 0 2.83L4 21.41c.39.39.9.59 1.41.59.51 0 1.02-.2 1.41-.59l7.78-7.78 2.81-2.81c.8-.78.8-2.07 0-2.86zM5.41 20L4 18.59l7.72-7.72 1.47 1.35L5.41 20z\"/>\n",
              "  </svg>\n",
              "      </button>\n",
              "      \n",
              "  <style>\n",
              "    .colab-df-container {\n",
              "      display:flex;\n",
              "      flex-wrap:wrap;\n",
              "      gap: 12px;\n",
              "    }\n",
              "\n",
              "    .colab-df-convert {\n",
              "      background-color: #E8F0FE;\n",
              "      border: none;\n",
              "      border-radius: 50%;\n",
              "      cursor: pointer;\n",
              "      display: none;\n",
              "      fill: #1967D2;\n",
              "      height: 32px;\n",
              "      padding: 0 0 0 0;\n",
              "      width: 32px;\n",
              "    }\n",
              "\n",
              "    .colab-df-convert:hover {\n",
              "      background-color: #E2EBFA;\n",
              "      box-shadow: 0px 1px 2px rgba(60, 64, 67, 0.3), 0px 1px 3px 1px rgba(60, 64, 67, 0.15);\n",
              "      fill: #174EA6;\n",
              "    }\n",
              "\n",
              "    [theme=dark] .colab-df-convert {\n",
              "      background-color: #3B4455;\n",
              "      fill: #D2E3FC;\n",
              "    }\n",
              "\n",
              "    [theme=dark] .colab-df-convert:hover {\n",
              "      background-color: #434B5C;\n",
              "      box-shadow: 0px 1px 3px 1px rgba(0, 0, 0, 0.15);\n",
              "      filter: drop-shadow(0px 1px 2px rgba(0, 0, 0, 0.3));\n",
              "      fill: #FFFFFF;\n",
              "    }\n",
              "  </style>\n",
              "\n",
              "      <script>\n",
              "        const buttonEl =\n",
              "          document.querySelector('#df-e3ad1b94-c43a-4a36-b832-438a8825551f button.colab-df-convert');\n",
              "        buttonEl.style.display =\n",
              "          google.colab.kernel.accessAllowed ? 'block' : 'none';\n",
              "\n",
              "        async function convertToInteractive(key) {\n",
              "          const element = document.querySelector('#df-e3ad1b94-c43a-4a36-b832-438a8825551f');\n",
              "          const dataTable =\n",
              "            await google.colab.kernel.invokeFunction('convertToInteractive',\n",
              "                                                     [key], {});\n",
              "          if (!dataTable) return;\n",
              "\n",
              "          const docLinkHtml = 'Like what you see? Visit the ' +\n",
              "            '<a target=\"_blank\" href=https://colab.research.google.com/notebooks/data_table.ipynb>data table notebook</a>'\n",
              "            + ' to learn more about interactive tables.';\n",
              "          element.innerHTML = '';\n",
              "          dataTable['output_type'] = 'display_data';\n",
              "          await google.colab.output.renderOutput(dataTable, element);\n",
              "          const docLink = document.createElement('div');\n",
              "          docLink.innerHTML = docLinkHtml;\n",
              "          element.appendChild(docLink);\n",
              "        }\n",
              "      </script>\n",
              "    </div>\n",
              "  </div>\n",
              "  "
            ]
          },
          "metadata": {},
          "execution_count": 17
        }
      ],
      "source": [
        "df = pd.read_csv('News.csv')\n",
        "df.head()"
      ]
    },
    {
      "cell_type": "markdown",
      "metadata": {
        "id": "X2YApfvjOS7P"
      },
      "source": [
        "Let's check is their any Nan values which we should take care of."
      ]
    },
    {
      "cell_type": "code",
      "source": [
        "df['headline']"
      ],
      "metadata": {
        "colab": {
          "base_uri": "https://localhost:8080/",
          "height": 0
        },
        "id": "WH6QPfuLUxGn",
        "outputId": "4efe21fc-dc3c-4a01-d5b2-3cae44303d97"
      },
      "execution_count": 19,
      "outputs": [
        {
          "output_type": "execute_result",
          "data": {
            "text/plain": [
              "0          There Were 2 Mass Shootings In Texas Last Wee...\n",
              "1          Will Smith Joins Diplo And Nicky Jam For The ...\n",
              "2          Hugh Grant Marries For The First Time At Age ...\n",
              "3          Jim Carrey Blasts 'Castrato' Adam Schiff And ...\n",
              "4          Julianna Margulies Uses Donald Trump Poop Bag...\n",
              "                                ...                        \n",
              "200848     RIM CEO Thorsten Heins' 'Significant' Plans F...\n",
              "200849     Maria Sharapova Stunned By Victoria Azarenka ...\n",
              "200850     Giants Over Patriots Jets Over Colts Among  M...\n",
              "200851                                 Aldon Smith Arrested\n",
              "200852     Dwight Howard Rips Teammates After Magic Loss...\n",
              "Name: headline, Length: 200853, dtype: object"
            ]
          },
          "metadata": {},
          "execution_count": 19
        }
      ]
    },
    {
      "cell_type": "code",
      "execution_count": 7,
      "metadata": {
        "trusted": true,
        "id": "-H17tcCrOS7P",
        "outputId": "e5320c43-0829-46a5-f242-978c7ca4a7cb",
        "colab": {
          "base_uri": "https://localhost:8080/",
          "height": 0
        }
      },
      "outputs": [
        {
          "output_type": "execute_result",
          "data": {
            "text/plain": [
              "headline             0\n",
              "category             0\n",
              "authors              2\n",
              "short_description    0\n",
              "dtype: int64"
            ]
          },
          "metadata": {},
          "execution_count": 7
        }
      ],
      "source": [
        "df.isna().sum()"
      ]
    },
    {
      "cell_type": "markdown",
      "metadata": {
        "id": "Cl7wPQuwOS7P"
      },
      "source": [
        "Our dataset have no empty values."
      ]
    },
    {
      "cell_type": "code",
      "execution_count": 8,
      "metadata": {
        "trusted": true,
        "id": "9G-XonVdOS7P",
        "outputId": "e6b35073-93d7-47c0-9722-938de93bd45a",
        "colab": {
          "base_uri": "https://localhost:8080/",
          "height": 0
        }
      },
      "outputs": [
        {
          "output_type": "execute_result",
          "data": {
            "text/plain": [
              " POLITICS            32739\n",
              " WELLNESS            17827\n",
              " ENTERTAINMENT       16058\n",
              " TRAVEL               9887\n",
              " STYLE & BEAUTY       9649\n",
              "Name: category, dtype: int64"
            ]
          },
          "metadata": {},
          "execution_count": 8
        }
      ],
      "source": [
        "# top 5 Categories of news in our datset\n",
        "df.category.value_counts()[:5]"
      ]
    },
    {
      "cell_type": "code",
      "source": [],
      "metadata": {
        "id": "A9SXQWZPTvEN"
      },
      "execution_count": 25,
      "outputs": []
    },
    {
      "cell_type": "code",
      "source": [
        "df['headline']"
      ],
      "metadata": {
        "colab": {
          "base_uri": "https://localhost:8080/",
          "height": 0
        },
        "id": "ZTY-VLjwUQMf",
        "outputId": "7b86cb8a-fca3-4bb0-cc21-4e98ae5b6792"
      },
      "execution_count": 20,
      "outputs": [
        {
          "output_type": "execute_result",
          "data": {
            "text/plain": [
              "0          There Were 2 Mass Shootings In Texas Last Wee...\n",
              "1          Will Smith Joins Diplo And Nicky Jam For The ...\n",
              "2          Hugh Grant Marries For The First Time At Age ...\n",
              "3          Jim Carrey Blasts 'Castrato' Adam Schiff And ...\n",
              "4          Julianna Margulies Uses Donald Trump Poop Bag...\n",
              "                                ...                        \n",
              "200848     RIM CEO Thorsten Heins' 'Significant' Plans F...\n",
              "200849     Maria Sharapova Stunned By Victoria Azarenka ...\n",
              "200850     Giants Over Patriots Jets Over Colts Among  M...\n",
              "200851                                 Aldon Smith Arrested\n",
              "200852     Dwight Howard Rips Teammates After Magic Loss...\n",
              "Name: headline, Length: 200853, dtype: object"
            ]
          },
          "metadata": {},
          "execution_count": 20
        }
      ]
    },
    {
      "cell_type": "code",
      "execution_count": 21,
      "metadata": {
        "trusted": true,
        "id": "gRoflPUWOS7Q"
      },
      "outputs": [],
      "source": [
        "df['text'] = df['headline'] + df['short_description'] + df['authors']\n",
        "df['label'] = df['category']\n",
        "del df['category']"
      ]
    },
    {
      "cell_type": "code",
      "execution_count": null,
      "metadata": {
        "trusted": true,
        "id": "4Q5tqH5zOS7Q",
        "outputId": "ada82658-e00f-4729-a13a-1afd9868dcf4"
      },
      "outputs": [
        {
          "data": {
            "text/html": [
              "<div>\n",
              "<style scoped>\n",
              "    .dataframe tbody tr th:only-of-type {\n",
              "        vertical-align: middle;\n",
              "    }\n",
              "\n",
              "    .dataframe tbody tr th {\n",
              "        vertical-align: top;\n",
              "    }\n",
              "\n",
              "    .dataframe thead th {\n",
              "        text-align: right;\n",
              "    }\n",
              "</style>\n",
              "<table border=\"1\" class=\"dataframe\">\n",
              "  <thead>\n",
              "    <tr style=\"text-align: right;\">\n",
              "      <th></th>\n",
              "      <th>text</th>\n",
              "      <th>label</th>\n",
              "    </tr>\n",
              "  </thead>\n",
              "  <tbody>\n",
              "    <tr>\n",
              "      <th>0</th>\n",
              "      <td>There Were 2 Mass Shootings In Texas Last Week...</td>\n",
              "      <td>CRIME</td>\n",
              "    </tr>\n",
              "    <tr>\n",
              "      <th>1</th>\n",
              "      <td>Will Smith Joins Diplo And Nicky Jam For The 2...</td>\n",
              "      <td>ENTERTAINMENT</td>\n",
              "    </tr>\n",
              "    <tr>\n",
              "      <th>2</th>\n",
              "      <td>Hugh Grant Marries For The First Time At Age 5...</td>\n",
              "      <td>ENTERTAINMENT</td>\n",
              "    </tr>\n",
              "    <tr>\n",
              "      <th>3</th>\n",
              "      <td>Jim Carrey Blasts 'Castrato' Adam Schiff And D...</td>\n",
              "      <td>ENTERTAINMENT</td>\n",
              "    </tr>\n",
              "    <tr>\n",
              "      <th>4</th>\n",
              "      <td>Julianna Margulies Uses Donald Trump Poop Bags...</td>\n",
              "      <td>ENTERTAINMENT</td>\n",
              "    </tr>\n",
              "    <tr>\n",
              "      <th>5</th>\n",
              "      <td>Morgan Freeman 'Devastated' That Sexual Harass...</td>\n",
              "      <td>ENTERTAINMENT</td>\n",
              "    </tr>\n",
              "    <tr>\n",
              "      <th>6</th>\n",
              "      <td>Donald Trump Is Lovin' New McDonald's Jingle I...</td>\n",
              "      <td>ENTERTAINMENT</td>\n",
              "    </tr>\n",
              "    <tr>\n",
              "      <th>7</th>\n",
              "      <td>What To Watch On Amazon Prime That’s New This ...</td>\n",
              "      <td>ENTERTAINMENT</td>\n",
              "    </tr>\n",
              "    <tr>\n",
              "      <th>8</th>\n",
              "      <td>Mike Myers Reveals He'd 'Like To' Do A Fourth ...</td>\n",
              "      <td>ENTERTAINMENT</td>\n",
              "    </tr>\n",
              "    <tr>\n",
              "      <th>9</th>\n",
              "      <td>What To Watch On Hulu That’s New This WeekYou'...</td>\n",
              "      <td>ENTERTAINMENT</td>\n",
              "    </tr>\n",
              "  </tbody>\n",
              "</table>\n",
              "</div>"
            ],
            "text/plain": [
              "                                                text          label\n",
              "0  There Were 2 Mass Shootings In Texas Last Week...          CRIME\n",
              "1  Will Smith Joins Diplo And Nicky Jam For The 2...  ENTERTAINMENT\n",
              "2  Hugh Grant Marries For The First Time At Age 5...  ENTERTAINMENT\n",
              "3  Jim Carrey Blasts 'Castrato' Adam Schiff And D...  ENTERTAINMENT\n",
              "4  Julianna Margulies Uses Donald Trump Poop Bags...  ENTERTAINMENT\n",
              "5  Morgan Freeman 'Devastated' That Sexual Harass...  ENTERTAINMENT\n",
              "6  Donald Trump Is Lovin' New McDonald's Jingle I...  ENTERTAINMENT\n",
              "7  What To Watch On Amazon Prime That’s New This ...  ENTERTAINMENT\n",
              "8  Mike Myers Reveals He'd 'Like To' Do A Fourth ...  ENTERTAINMENT\n",
              "9  What To Watch On Hulu That’s New This WeekYou'...  ENTERTAINMENT"
            ]
          },
          "execution_count": 28,
          "metadata": {},
          "output_type": "execute_result"
        }
      ],
      "source": [
        "df.head(10)"
      ]
    },
    {
      "cell_type": "markdown",
      "metadata": {
        "id": "MNVhs2flOS7Q"
      },
      "source": [
        "Let's check total number of words in our dataset."
      ]
    },
    {
      "cell_type": "code",
      "source": [],
      "metadata": {
        "colab": {
          "base_uri": "https://localhost:8080/",
          "height": 0
        },
        "id": "BX9wL6HEVQGA",
        "outputId": "65ff08e3-3266-49c3-9f37-1c83c21b6535"
      },
      "execution_count": 26,
      "outputs": [
        {
          "output_type": "execute_result",
          "data": {
            "text/plain": [
              "pandas.core.series.Series"
            ]
          },
          "metadata": {},
          "execution_count": 26
        }
      ]
    },
    {
      "cell_type": "code",
      "execution_count": 27,
      "metadata": {
        "trusted": true,
        "id": "pbLp-j8ZOS7R"
      },
      "outputs": [],
      "source": [
        "# df['text'].apply(lambda x: len(x.split(' '))).sum()"
      ]
    },
    {
      "cell_type": "code",
      "execution_count": 28,
      "metadata": {
        "trusted": true,
        "id": "Y3zDZmfiOS7R"
      },
      "outputs": [],
      "source": [
        "def get_simple_pos(tag):\n",
        "    if tag.startswith('J'):\n",
        "        return wordnet.ADJ\n",
        "    elif tag.startswith('V'):\n",
        "        return wordnet.VERB\n",
        "    elif tag.startswith('N'):\n",
        "        return wordnet.NOUN\n",
        "    elif tag.startswith('R'):\n",
        "        return wordnet.ADV\n",
        "    else:\n",
        "        return wordnet.NOUN"
      ]
    },
    {
      "cell_type": "markdown",
      "metadata": {
        "id": "2pB5JaHdOS7R"
      },
      "source": [
        "# Preprocessing the Data"
      ]
    },
    {
      "cell_type": "markdown",
      "source": [
        " Next will go through Stopwords and Lemmatization steps to narrow down our dataset by removing words that our not relevant."
      ],
      "metadata": {
        "id": "t-cYPcYxRDix"
      }
    },
    {
      "cell_type": "code",
      "source": [
        "import nltk"
      ],
      "metadata": {
        "id": "OW0CaVQTV6Ne"
      },
      "execution_count": 30,
      "outputs": []
    },
    {
      "cell_type": "code",
      "source": [
        "nltk.download('stopwords')"
      ],
      "metadata": {
        "colab": {
          "base_uri": "https://localhost:8080/",
          "height": 0
        },
        "id": "31479pPqWAiN",
        "outputId": "4b182754-2ad0-4288-a6b4-9596e7b94e56"
      },
      "execution_count": 32,
      "outputs": [
        {
          "output_type": "stream",
          "name": "stderr",
          "text": [
            "[nltk_data] Downloading package stopwords to /root/nltk_data...\n",
            "[nltk_data]   Unzipping corpora/stopwords.zip.\n"
          ]
        },
        {
          "output_type": "execute_result",
          "data": {
            "text/plain": [
              "True"
            ]
          },
          "metadata": {},
          "execution_count": 32
        }
      ]
    },
    {
      "cell_type": "code",
      "execution_count": 33,
      "metadata": {
        "trusted": true,
        "id": "9W3mwt-5OS7S"
      },
      "outputs": [],
      "source": [
        "REMOVE_SPECIAL_CHARACTER = re.compile('[/(){}\\[\\]\\|@,;]')\n",
        "BAD_SYMBOLS = re.compile('[^0-9a-z #+_]')\n",
        "\n",
        "STOPWORDS = set(stopwords.words('english'))\n",
        "punctuation = list(punctuation)\n",
        "STOPWORDS.update(punctuation)\n",
        "\n",
        "lemmatizer = WordNetLemmatizer()\n",
        "\n",
        "def clean_text(text):\n",
        "    # part 1\n",
        "    text = text.lower() # lowering text\n",
        "    text = REMOVE_SPECIAL_CHARACTER.sub('', text) # replace REPLACE_BY_SPACE symbols by space in text\n",
        "    text = BAD_SYMBOLS.sub('', text) # delete symbols which are in BAD_SYMBOLS from text\n",
        "    \n",
        "    # part 2\n",
        "    clean_text = []\n",
        "    for w in word_tokenize(text):\n",
        "        if w.lower() not in STOPWORDS:\n",
        "            pos = pos_tag([w])\n",
        "            new_w = lemmatizer.lemmatize(w, pos=get_simple_pos(pos[0][1]))\n",
        "            clean_text.append(new_w)\n",
        "    text = \" \".join(clean_text)\n",
        "    \n",
        "    return text"
      ]
    },
    {
      "cell_type": "code",
      "source": [
        "nltk.download('punkt')"
      ],
      "metadata": {
        "colab": {
          "base_uri": "https://localhost:8080/",
          "height": 0
        },
        "id": "chosLjBIWIuk",
        "outputId": "7efd8aeb-f713-4032-c94e-a98b1074b2de"
      },
      "execution_count": 35,
      "outputs": [
        {
          "output_type": "stream",
          "name": "stderr",
          "text": [
            "[nltk_data] Downloading package punkt to /root/nltk_data...\n",
            "[nltk_data]   Unzipping tokenizers/punkt.zip.\n"
          ]
        },
        {
          "output_type": "execute_result",
          "data": {
            "text/plain": [
              "True"
            ]
          },
          "metadata": {},
          "execution_count": 35
        }
      ]
    },
    {
      "cell_type": "code",
      "source": [
        "nltk.download('averaged_perceptron_tagger')"
      ],
      "metadata": {
        "colab": {
          "base_uri": "https://localhost:8080/",
          "height": 0
        },
        "id": "TmfdkarlWL-N",
        "outputId": "fec1c406-c9d5-47f7-9318-590c9a540938"
      },
      "execution_count": 37,
      "outputs": [
        {
          "output_type": "stream",
          "name": "stderr",
          "text": [
            "[nltk_data] Downloading package averaged_perceptron_tagger to\n",
            "[nltk_data]     /root/nltk_data...\n",
            "[nltk_data]   Unzipping taggers/averaged_perceptron_tagger.zip.\n"
          ]
        },
        {
          "output_type": "execute_result",
          "data": {
            "text/plain": [
              "True"
            ]
          },
          "metadata": {},
          "execution_count": 37
        }
      ]
    },
    {
      "cell_type": "code",
      "source": [
        "nltk.download('wordnet')"
      ],
      "metadata": {
        "colab": {
          "base_uri": "https://localhost:8080/",
          "height": 0
        },
        "id": "vklWOTc3WQPv",
        "outputId": "633d83ff-bc1a-46e6-ea5f-790cf55923b9"
      },
      "execution_count": 39,
      "outputs": [
        {
          "output_type": "stream",
          "name": "stderr",
          "text": [
            "[nltk_data] Downloading package wordnet to /root/nltk_data...\n"
          ]
        },
        {
          "output_type": "execute_result",
          "data": {
            "text/plain": [
              "True"
            ]
          },
          "metadata": {},
          "execution_count": 39
        }
      ]
    },
    {
      "cell_type": "code",
      "source": [
        "nltk.download('omw-1.4')"
      ],
      "metadata": {
        "colab": {
          "base_uri": "https://localhost:8080/",
          "height": 0
        },
        "id": "F4Y3Rz3sWVs-",
        "outputId": "cc657492-2296-45b0-cadb-cede2e607cc7"
      },
      "execution_count": 41,
      "outputs": [
        {
          "output_type": "stream",
          "name": "stderr",
          "text": [
            "[nltk_data] Downloading package omw-1.4 to /root/nltk_data...\n"
          ]
        },
        {
          "output_type": "execute_result",
          "data": {
            "text/plain": [
              "True"
            ]
          },
          "metadata": {},
          "execution_count": 41
        }
      ]
    },
    {
      "cell_type": "code",
      "source": [
        "df.info()"
      ],
      "metadata": {
        "colab": {
          "base_uri": "https://localhost:8080/",
          "height": 0
        },
        "id": "7pSDORbcWVTg",
        "outputId": "4ff2f50c-dbc6-4198-eedf-a7ec08d101b7"
      },
      "execution_count": 43,
      "outputs": [
        {
          "output_type": "stream",
          "name": "stdout",
          "text": [
            "<class 'pandas.core.frame.DataFrame'>\n",
            "RangeIndex: 200853 entries, 0 to 200852\n",
            "Data columns (total 5 columns):\n",
            " #   Column             Non-Null Count   Dtype \n",
            "---  ------             --------------   ----- \n",
            " 0   headline           200853 non-null  object\n",
            " 1   authors            200851 non-null  object\n",
            " 2   short_description  200853 non-null  object\n",
            " 3   text               200851 non-null  object\n",
            " 4   label              200853 non-null  object\n",
            "dtypes: object(5)\n",
            "memory usage: 7.7+ MB\n"
          ]
        }
      ]
    },
    {
      "cell_type": "code",
      "source": [
        "df['text'] = df['text'].astype('str')"
      ],
      "metadata": {
        "id": "mq5qGZAMWUsk"
      },
      "execution_count": 46,
      "outputs": []
    },
    {
      "cell_type": "code",
      "source": [
        "df.info()"
      ],
      "metadata": {
        "colab": {
          "base_uri": "https://localhost:8080/",
          "height": 0
        },
        "id": "BA_PtNa7X9SQ",
        "outputId": "22a19ea0-7052-410e-d602-0f971acb6bb7"
      },
      "execution_count": 47,
      "outputs": [
        {
          "output_type": "stream",
          "name": "stdout",
          "text": [
            "<class 'pandas.core.frame.DataFrame'>\n",
            "RangeIndex: 200853 entries, 0 to 200852\n",
            "Data columns (total 5 columns):\n",
            " #   Column             Non-Null Count   Dtype \n",
            "---  ------             --------------   ----- \n",
            " 0   headline           200853 non-null  object\n",
            " 1   authors            200851 non-null  object\n",
            " 2   short_description  200853 non-null  object\n",
            " 3   text               200853 non-null  object\n",
            " 4   label              200853 non-null  object\n",
            "dtypes: object(5)\n",
            "memory usage: 7.7+ MB\n"
          ]
        }
      ]
    },
    {
      "cell_type": "code",
      "execution_count": 48,
      "metadata": {
        "trusted": true,
        "id": "XdAZR0kROS7S"
      },
      "outputs": [],
      "source": [
        "df['text'] = df['text'].apply(clean_text)"
      ]
    },
    {
      "cell_type": "code",
      "execution_count": 57,
      "metadata": {
        "trusted": true,
        "id": "YhQPInj4OS7T"
      },
      "outputs": [],
      "source": [
        "df.to_csv('news_text_cleaned.csv', columns=['text', 'label'])"
      ]
    },
    {
      "cell_type": "code",
      "execution_count": 49,
      "metadata": {
        "trusted": true,
        "id": "tM5zstm8OS7T",
        "outputId": "6db4a250-3d30-4780-f7be-d9be7e18c7cf",
        "colab": {
          "base_uri": "https://localhost:8080/",
          "height": 580
        }
      },
      "outputs": [
        {
          "output_type": "execute_result",
          "data": {
            "text/plain": [
              "                                            headline             authors  \\\n",
              "0   There Were 2 Mass Shootings In Texas Last Wee...   Melissa Jeltsen     \n",
              "1   Will Smith Joins Diplo And Nicky Jam For The ...     Andy McDonald     \n",
              "2   Hugh Grant Marries For The First Time At Age ...        Ron Dicker     \n",
              "3   Jim Carrey Blasts 'Castrato' Adam Schiff And ...        Ron Dicker     \n",
              "4   Julianna Margulies Uses Donald Trump Poop Bag...        Ron Dicker     \n",
              "5   Morgan Freeman 'Devastated' That Sexual Haras...        Ron Dicker     \n",
              "6   Donald Trump Is Lovin' New McDonald's Jingle ...        Ron Dicker     \n",
              "7   What To Watch On Amazon Prime That\\u2019s New...   Todd Van Luling     \n",
              "8   Mike Myers Reveals He'd 'Like To' Do A Fourth...     Andy McDonald     \n",
              "9   What To Watch On Hulu That\\u2019s New This We...   Todd Van Luling     \n",
              "\n",
              "                                   short_description  \\\n",
              "0   She left her husband. He killed their childre...   \n",
              "1                          Of course it has a song.    \n",
              "2   The actor and his longtime girlfriend Anna Eb...   \n",
              "3   The actor gives Dems an ass-kicking for not f...   \n",
              "4   The Dietland actress said using the bags is a...   \n",
              "5   It is not right to equate horrific incidents ...   \n",
              "6                            It's catchy all right.    \n",
              "7    There's a great mini-series joining this week.    \n",
              "8   Myer's kids may be pushing for a new Powers f...   \n",
              "9   You're getting a recent Academy Award-winning...   \n",
              "\n",
              "                                                text             label  \n",
              "0  2 mass shooting texas last week 1 tv author le...           CRIME    \n",
              "1  smith join diplo nicky jam 2018 world cup offi...   ENTERTAINMENT    \n",
              "2  hugh grant marries first time age 57 author ac...   ENTERTAINMENT    \n",
              "3  jim carrey blast castrato adam schiff democrat...   ENTERTAINMENT    \n",
              "4  julianna margulies us donald trump poop bag pi...   ENTERTAINMENT    \n",
              "5  morgan freeman devastate sexual harassment cla...   ENTERTAINMENT    \n",
              "6  donald trump lovin new mcdonalds jingle tonigh...   ENTERTAINMENT    \n",
              "7  watch amazon prime thatu2019s new week author ...   ENTERTAINMENT    \n",
              "8  mike myers reveals hed like fourth austin powe...   ENTERTAINMENT    \n",
              "9  watch hulu thatu2019s new week author youre ge...   ENTERTAINMENT    "
            ],
            "text/html": [
              "\n",
              "  <div id=\"df-4729ddfe-fb9d-4523-9e8b-6f98dbd6ead0\">\n",
              "    <div class=\"colab-df-container\">\n",
              "      <div>\n",
              "<style scoped>\n",
              "    .dataframe tbody tr th:only-of-type {\n",
              "        vertical-align: middle;\n",
              "    }\n",
              "\n",
              "    .dataframe tbody tr th {\n",
              "        vertical-align: top;\n",
              "    }\n",
              "\n",
              "    .dataframe thead th {\n",
              "        text-align: right;\n",
              "    }\n",
              "</style>\n",
              "<table border=\"1\" class=\"dataframe\">\n",
              "  <thead>\n",
              "    <tr style=\"text-align: right;\">\n",
              "      <th></th>\n",
              "      <th>headline</th>\n",
              "      <th>authors</th>\n",
              "      <th>short_description</th>\n",
              "      <th>text</th>\n",
              "      <th>label</th>\n",
              "    </tr>\n",
              "  </thead>\n",
              "  <tbody>\n",
              "    <tr>\n",
              "      <th>0</th>\n",
              "      <td>There Were 2 Mass Shootings In Texas Last Wee...</td>\n",
              "      <td>Melissa Jeltsen</td>\n",
              "      <td>She left her husband. He killed their childre...</td>\n",
              "      <td>2 mass shooting texas last week 1 tv author le...</td>\n",
              "      <td>CRIME</td>\n",
              "    </tr>\n",
              "    <tr>\n",
              "      <th>1</th>\n",
              "      <td>Will Smith Joins Diplo And Nicky Jam For The ...</td>\n",
              "      <td>Andy McDonald</td>\n",
              "      <td>Of course it has a song.</td>\n",
              "      <td>smith join diplo nicky jam 2018 world cup offi...</td>\n",
              "      <td>ENTERTAINMENT</td>\n",
              "    </tr>\n",
              "    <tr>\n",
              "      <th>2</th>\n",
              "      <td>Hugh Grant Marries For The First Time At Age ...</td>\n",
              "      <td>Ron Dicker</td>\n",
              "      <td>The actor and his longtime girlfriend Anna Eb...</td>\n",
              "      <td>hugh grant marries first time age 57 author ac...</td>\n",
              "      <td>ENTERTAINMENT</td>\n",
              "    </tr>\n",
              "    <tr>\n",
              "      <th>3</th>\n",
              "      <td>Jim Carrey Blasts 'Castrato' Adam Schiff And ...</td>\n",
              "      <td>Ron Dicker</td>\n",
              "      <td>The actor gives Dems an ass-kicking for not f...</td>\n",
              "      <td>jim carrey blast castrato adam schiff democrat...</td>\n",
              "      <td>ENTERTAINMENT</td>\n",
              "    </tr>\n",
              "    <tr>\n",
              "      <th>4</th>\n",
              "      <td>Julianna Margulies Uses Donald Trump Poop Bag...</td>\n",
              "      <td>Ron Dicker</td>\n",
              "      <td>The Dietland actress said using the bags is a...</td>\n",
              "      <td>julianna margulies us donald trump poop bag pi...</td>\n",
              "      <td>ENTERTAINMENT</td>\n",
              "    </tr>\n",
              "    <tr>\n",
              "      <th>5</th>\n",
              "      <td>Morgan Freeman 'Devastated' That Sexual Haras...</td>\n",
              "      <td>Ron Dicker</td>\n",
              "      <td>It is not right to equate horrific incidents ...</td>\n",
              "      <td>morgan freeman devastate sexual harassment cla...</td>\n",
              "      <td>ENTERTAINMENT</td>\n",
              "    </tr>\n",
              "    <tr>\n",
              "      <th>6</th>\n",
              "      <td>Donald Trump Is Lovin' New McDonald's Jingle ...</td>\n",
              "      <td>Ron Dicker</td>\n",
              "      <td>It's catchy all right.</td>\n",
              "      <td>donald trump lovin new mcdonalds jingle tonigh...</td>\n",
              "      <td>ENTERTAINMENT</td>\n",
              "    </tr>\n",
              "    <tr>\n",
              "      <th>7</th>\n",
              "      <td>What To Watch On Amazon Prime That\\u2019s New...</td>\n",
              "      <td>Todd Van Luling</td>\n",
              "      <td>There's a great mini-series joining this week.</td>\n",
              "      <td>watch amazon prime thatu2019s new week author ...</td>\n",
              "      <td>ENTERTAINMENT</td>\n",
              "    </tr>\n",
              "    <tr>\n",
              "      <th>8</th>\n",
              "      <td>Mike Myers Reveals He'd 'Like To' Do A Fourth...</td>\n",
              "      <td>Andy McDonald</td>\n",
              "      <td>Myer's kids may be pushing for a new Powers f...</td>\n",
              "      <td>mike myers reveals hed like fourth austin powe...</td>\n",
              "      <td>ENTERTAINMENT</td>\n",
              "    </tr>\n",
              "    <tr>\n",
              "      <th>9</th>\n",
              "      <td>What To Watch On Hulu That\\u2019s New This We...</td>\n",
              "      <td>Todd Van Luling</td>\n",
              "      <td>You're getting a recent Academy Award-winning...</td>\n",
              "      <td>watch hulu thatu2019s new week author youre ge...</td>\n",
              "      <td>ENTERTAINMENT</td>\n",
              "    </tr>\n",
              "  </tbody>\n",
              "</table>\n",
              "</div>\n",
              "      <button class=\"colab-df-convert\" onclick=\"convertToInteractive('df-4729ddfe-fb9d-4523-9e8b-6f98dbd6ead0')\"\n",
              "              title=\"Convert this dataframe to an interactive table.\"\n",
              "              style=\"display:none;\">\n",
              "        \n",
              "  <svg xmlns=\"http://www.w3.org/2000/svg\" height=\"24px\"viewBox=\"0 0 24 24\"\n",
              "       width=\"24px\">\n",
              "    <path d=\"M0 0h24v24H0V0z\" fill=\"none\"/>\n",
              "    <path d=\"M18.56 5.44l.94 2.06.94-2.06 2.06-.94-2.06-.94-.94-2.06-.94 2.06-2.06.94zm-11 1L8.5 8.5l.94-2.06 2.06-.94-2.06-.94L8.5 2.5l-.94 2.06-2.06.94zm10 10l.94 2.06.94-2.06 2.06-.94-2.06-.94-.94-2.06-.94 2.06-2.06.94z\"/><path d=\"M17.41 7.96l-1.37-1.37c-.4-.4-.92-.59-1.43-.59-.52 0-1.04.2-1.43.59L10.3 9.45l-7.72 7.72c-.78.78-.78 2.05 0 2.83L4 21.41c.39.39.9.59 1.41.59.51 0 1.02-.2 1.41-.59l7.78-7.78 2.81-2.81c.8-.78.8-2.07 0-2.86zM5.41 20L4 18.59l7.72-7.72 1.47 1.35L5.41 20z\"/>\n",
              "  </svg>\n",
              "      </button>\n",
              "      \n",
              "  <style>\n",
              "    .colab-df-container {\n",
              "      display:flex;\n",
              "      flex-wrap:wrap;\n",
              "      gap: 12px;\n",
              "    }\n",
              "\n",
              "    .colab-df-convert {\n",
              "      background-color: #E8F0FE;\n",
              "      border: none;\n",
              "      border-radius: 50%;\n",
              "      cursor: pointer;\n",
              "      display: none;\n",
              "      fill: #1967D2;\n",
              "      height: 32px;\n",
              "      padding: 0 0 0 0;\n",
              "      width: 32px;\n",
              "    }\n",
              "\n",
              "    .colab-df-convert:hover {\n",
              "      background-color: #E2EBFA;\n",
              "      box-shadow: 0px 1px 2px rgba(60, 64, 67, 0.3), 0px 1px 3px 1px rgba(60, 64, 67, 0.15);\n",
              "      fill: #174EA6;\n",
              "    }\n",
              "\n",
              "    [theme=dark] .colab-df-convert {\n",
              "      background-color: #3B4455;\n",
              "      fill: #D2E3FC;\n",
              "    }\n",
              "\n",
              "    [theme=dark] .colab-df-convert:hover {\n",
              "      background-color: #434B5C;\n",
              "      box-shadow: 0px 1px 3px 1px rgba(0, 0, 0, 0.15);\n",
              "      filter: drop-shadow(0px 1px 2px rgba(0, 0, 0, 0.3));\n",
              "      fill: #FFFFFF;\n",
              "    }\n",
              "  </style>\n",
              "\n",
              "      <script>\n",
              "        const buttonEl =\n",
              "          document.querySelector('#df-4729ddfe-fb9d-4523-9e8b-6f98dbd6ead0 button.colab-df-convert');\n",
              "        buttonEl.style.display =\n",
              "          google.colab.kernel.accessAllowed ? 'block' : 'none';\n",
              "\n",
              "        async function convertToInteractive(key) {\n",
              "          const element = document.querySelector('#df-4729ddfe-fb9d-4523-9e8b-6f98dbd6ead0');\n",
              "          const dataTable =\n",
              "            await google.colab.kernel.invokeFunction('convertToInteractive',\n",
              "                                                     [key], {});\n",
              "          if (!dataTable) return;\n",
              "\n",
              "          const docLinkHtml = 'Like what you see? Visit the ' +\n",
              "            '<a target=\"_blank\" href=https://colab.research.google.com/notebooks/data_table.ipynb>data table notebook</a>'\n",
              "            + ' to learn more about interactive tables.';\n",
              "          element.innerHTML = '';\n",
              "          dataTable['output_type'] = 'display_data';\n",
              "          await google.colab.output.renderOutput(dataTable, element);\n",
              "          const docLink = document.createElement('div');\n",
              "          docLink.innerHTML = docLinkHtml;\n",
              "          element.appendChild(docLink);\n",
              "        }\n",
              "      </script>\n",
              "    </div>\n",
              "  </div>\n",
              "  "
            ]
          },
          "metadata": {},
          "execution_count": 49
        }
      ],
      "source": [
        "df.head(10)"
      ]
    },
    {
      "cell_type": "markdown",
      "metadata": {
        "id": "ME54C-v2OS7T"
      },
      "source": [
        "Let's check how many words are remaining after cleaning the data."
      ]
    },
    {
      "cell_type": "code",
      "execution_count": null,
      "metadata": {
        "trusted": true,
        "id": "P1svmB0rOS7T",
        "outputId": "3f6a1a53-5af7-489b-8e76-b430d8069652"
      },
      "outputs": [
        {
          "data": {
            "text/plain": [
              "4035112"
            ]
          },
          "execution_count": 35,
          "metadata": {},
          "output_type": "execute_result"
        }
      ],
      "source": [
        "df['text'].apply(lambda x: len(x.split(' '))).sum()"
      ]
    },
    {
      "cell_type": "markdown",
      "metadata": {
        "id": "9CMTH_AmOS7U"
      },
      "source": [
        "# Splitting Data"
      ]
    },
    {
      "cell_type": "code",
      "execution_count": 50,
      "metadata": {
        "trusted": true,
        "id": "qtIwAefKOS7U",
        "outputId": "6099e654-0b81-4776-b926-81f5ae136af9",
        "colab": {
          "base_uri": "https://localhost:8080/",
          "height": 0
        }
      },
      "outputs": [
        {
          "output_type": "execute_result",
          "data": {
            "text/plain": [
              "((150639,), (50214,), (150639,), (50214,))"
            ]
          },
          "metadata": {},
          "execution_count": 50
        }
      ],
      "source": [
        "X=df.text\n",
        "y=df.label\n",
        "\n",
        "X_train, X_test, y_train, y_test = train_test_split(X, y, random_state=0)\n",
        "X_train.shape, X_test.shape, y_train.shape, y_test.shape"
      ]
    },
    {
      "cell_type": "markdown",
      "metadata": {
        "id": "s2U-54mVOS7U"
      },
      "source": [
        "# Comparing Models"
      ]
    },
    {
      "cell_type": "code",
      "execution_count": 52,
      "metadata": {
        "trusted": true,
        "id": "UNkQhcy-OS7U",
        "outputId": "e731f8e7-312c-454e-894e-d64a8213ac68",
        "colab": {
          "base_uri": "https://localhost:8080/",
          "height": 0
        }
      },
      "outputs": [
        {
          "output_type": "stream",
          "name": "stdout",
          "text": [
            "Logistic Regression: 0.700283\n",
            "Random Forest: 0.636396\n",
            "Linear SVC: 0.712829\n",
            "Multinomial NaiveBayes: 0.576293\n",
            "SGD Classifier: 0.665432\n"
          ]
        }
      ],
      "source": [
        "# Creating Models\n",
        "models = [('Logistic Regression', LogisticRegression(max_iter=500)),('Random Forest', RandomForestClassifier()),\n",
        "          ('Linear SVC', LinearSVC()), ('Multinomial NaiveBayes', MultinomialNB()), ('SGD Classifier', SGDClassifier())]\n",
        "\n",
        "best_accuracy = 0\n",
        "best_model = None\n",
        "names = []\n",
        "results = []\n",
        "model = []\n",
        "\n",
        "for name, clf in models:\n",
        "    pipe = Pipeline([('vect', CountVectorizer(max_features=30000, ngram_range=(1, 2))),\n",
        "                    ('tfidf', TfidfTransformer()),\n",
        "                    (name, clf),\n",
        "                    ])\n",
        "    pipe.fit(X_train, y_train)\n",
        "    y_pred = pipe.predict(X_test)\n",
        "    accuracy = accuracy_score(y_pred, y_test)\n",
        "    if accuracy > best_accuracy:\n",
        "      best_accuracy = accuracy\n",
        "    \n",
        "    names.append(name)\n",
        "    results.append(accuracy)\n",
        "    model.append(pipe)\n",
        "    \n",
        "    msg = \"%s: %f\" % (name, accuracy)\n",
        "    print(msg)"
      ]
    },
    {
      "cell_type": "markdown",
      "metadata": {
        "id": "WPFrED-tOS7V"
      },
      "source": [
        "# Saving Model"
      ]
    },
    {
      "cell_type": "code",
      "execution_count": 53,
      "metadata": {
        "trusted": true,
        "id": "UoeA3utsOS7V"
      },
      "outputs": [],
      "source": [
        "# Logistic Regression\n",
        "filename = 'model_lr.sav'\n",
        "pickle.dump(model[0], open(filename, 'wb'))\n",
        "\n",
        "# Linear SVC\n",
        "filename = 'model_lin_svc.sav'\n",
        "pickle.dump(model[2], open(filename, 'wb'))"
      ]
    },
    {
      "cell_type": "markdown",
      "metadata": {
        "id": "5kh_-TrYOS7V"
      },
      "source": [
        "# Loading and Testing"
      ]
    },
    {
      "cell_type": "code",
      "execution_count": 54,
      "metadata": {
        "trusted": true,
        "id": "hgErIX6jOS7V"
      },
      "outputs": [],
      "source": [
        "lr_model = pickle.load(open('model_lin_svc.sav', 'rb'))"
      ]
    },
    {
      "cell_type": "code",
      "source": [
        "text1 = 'Could have been best all-rounder India ever produced in ODIs: Irfan Pathan'\n",
        "text2 = \"Ashwin Kkumar dances to Kamal Haasan's Annathe song on a treadmill. Actor is proud\"\n",
        "print(model[0].predict([text1,text2]))"
      ],
      "metadata": {
        "colab": {
          "base_uri": "https://localhost:8080/",
          "height": 0
        },
        "id": "ix9QcMR9doEh",
        "outputId": "72e442e2-9885-4029-f2ab-135454a8e985"
      },
      "execution_count": 56,
      "outputs": [
        {
          "output_type": "stream",
          "name": "stdout",
          "text": [
            "[' TRAVEL  ' ' ENTERTAINMENT  ']\n"
          ]
        }
      ]
    },
    {
      "cell_type": "code",
      "execution_count": 55,
      "metadata": {
        "trusted": true,
        "id": "-Rl-LS-COS7W",
        "outputId": "8e4a9c69-709e-451e-fc2e-6c75ce034350",
        "colab": {
          "base_uri": "https://localhost:8080/",
          "height": 0
        }
      },
      "outputs": [
        {
          "output_type": "stream",
          "name": "stdout",
          "text": [
            "[' TRAVEL  ' ' ENTERTAINMENT  ']\n"
          ]
        }
      ],
      "source": [
        "text1 = 'Could have been best all-rounder India ever produced in ODIs: Irfan Pathan'\n",
        "text2 = \"Ashwin Kkumar dances to Kamal Haasan's Annathe song on a treadmill. Actor is proud\"\n",
        "print(lr_model.predict([text1, text2]))"
      ]
    },
    {
      "cell_type": "code",
      "source": [],
      "metadata": {
        "id": "HVnVy8Neiccj"
      },
      "execution_count": null,
      "outputs": []
    }
  ],
  "metadata": {
    "kernelspec": {
      "display_name": "Python 3",
      "language": "python",
      "name": "python3"
    },
    "language_info": {
      "codemirror_mode": {
        "name": "ipython",
        "version": 3
      },
      "file_extension": ".py",
      "mimetype": "text/x-python",
      "name": "python",
      "nbconvert_exporter": "python",
      "pygments_lexer": "ipython3",
      "version": "3.7.6"
    },
    "colab": {
      "provenance": [],
      "include_colab_link": true
    }
  },
  "nbformat": 4,
  "nbformat_minor": 0
}